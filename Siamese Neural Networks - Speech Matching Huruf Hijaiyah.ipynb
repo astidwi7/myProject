{
  "nbformat": 4,
  "nbformat_minor": 0,
  "metadata": {
    "colab": {
      "name": "Siamese Neural Networks-Speech Matching Huruf Hijaiyah.ipynb",
      "provenance": [],
      "collapsed_sections": []
    },
    "kernelspec": {
      "name": "python3",
      "display_name": "Python 3"
    },
    "language_info": {
      "name": "python"
    }
  },
  "cells": [
    {
      "cell_type": "markdown",
      "source": [
        "**Project ini mengimplementasikan metode Siamese Neural Network (SNN) untuk memeriksa pengucapan huruf hijaiyah. Dataset yang digunakan terlampir pada dataset.txt.**"
      ],
      "metadata": {
        "id": "ooq0dHbO2PQ4"
      }
    },
    {
      "cell_type": "code",
      "execution_count": 1,
      "metadata": {
        "id": "EepsB8KIDQ67",
        "colab": {
          "base_uri": "https://localhost:8080/"
        },
        "outputId": "f9241fb3-7232-43e6-d5de-798458e6cc91"
      },
      "outputs": [
        {
          "output_type": "stream",
          "name": "stdout",
          "text": [
            "Looking in indexes: https://pypi.org/simple, https://us-python.pkg.dev/colab-wheels/public/simple/\n",
            "Collecting tensorflow-io\n",
            "  Downloading tensorflow_io-0.26.0-cp37-cp37m-manylinux_2_12_x86_64.manylinux2010_x86_64.whl (25.9 MB)\n",
            "\u001b[K     |████████████████████████████████| 25.9 MB 1.2 MB/s \n",
            "\u001b[?25hRequirement already satisfied: tensorflow-io-gcs-filesystem==0.26.0 in /usr/local/lib/python3.7/dist-packages (from tensorflow-io) (0.26.0)\n",
            "Installing collected packages: tensorflow-io\n",
            "Successfully installed tensorflow-io-0.26.0\n"
          ]
        }
      ],
      "source": [
        "pip install tensorflow-io"
      ]
    },
    {
      "cell_type": "code",
      "source": [
        "import tensorflow as tf\n",
        "import tensorflow_io as tfio\n",
        "from tensorflow.keras.models import Model\n",
        "from tensorflow.keras.layers import Input, Flatten, Dense, Dropout, Lambda\n",
        "from tensorflow.keras.optimizers import RMSprop\n",
        "from tensorflow.keras import backend as K\n",
        "\n",
        "import glob\n",
        "import numpy as np\n",
        "import matplotlib.pyplot as plt"
      ],
      "metadata": {
        "id": "dR7vE0kXWzyE"
      },
      "execution_count": 2,
      "outputs": []
    },
    {
      "cell_type": "code",
      "source": [
        "syi_path = glob.glob('Syi/*.wav')"
      ],
      "metadata": {
        "id": "5O0yRl9PF2ra"
      },
      "execution_count": 3,
      "outputs": []
    },
    {
      "cell_type": "code",
      "source": [
        "dhi_path = glob.glob('Dhi/*.wav')"
      ],
      "metadata": {
        "id": "e86LWsGELlqx"
      },
      "execution_count": 4,
      "outputs": []
    },
    {
      "cell_type": "code",
      "source": [
        "data = []\n",
        "for _ in syi_path:\n",
        "  data.append(np.asarray(tf.audio.decode_wav(tf.io.read_file(_)).audio[:44100,:]))"
      ],
      "metadata": {
        "id": "1sCUKq8HKSrp"
      },
      "execution_count": 5,
      "outputs": []
    },
    {
      "cell_type": "code",
      "source": [
        "data_ = []\n",
        "for _ in dhi_path:\n",
        "  data_.append(np.asarray(tf.audio.decode_wav(tf.io.read_file(_)).audio[:44100,:]))"
      ],
      "metadata": {
        "id": "jyJQabPFLOrj"
      },
      "execution_count": 7,
      "outputs": []
    },
    {
      "cell_type": "code",
      "source": [
        "x = []\n",
        "y = []\n",
        "for i in range(min([len(data), len(data_)])-1):\n",
        "  c = []\n",
        "  c.append(data[i])\n",
        "  c.append(data[i+1])\n",
        "  c = np.asarray(c)\n",
        "  x.append(c)\n",
        "  y.append(1)"
      ],
      "metadata": {
        "id": "XyZ0qpSIRnb3"
      },
      "execution_count": 8,
      "outputs": []
    },
    {
      "cell_type": "code",
      "source": [
        "for i in range(min([len(data), len(data_)])-1):\n",
        "  c = []\n",
        "  c.append(data[i])\n",
        "  c.append(data_[i])\n",
        "  c = np.asarray(c)\n",
        "  x.append(c)\n",
        "  y.append(0)\n",
        "x = np.asarray(x)\n",
        "y = np.asarray(y).astype('float32')"
      ],
      "metadata": {
        "id": "9i0RjQoJYMGf"
      },
      "execution_count": 9,
      "outputs": []
    },
    {
      "cell_type": "code",
      "source": [
        "def initialize_base_network():\n",
        "    input = Input(shape=(44100,2,), name=\"base_input\")\n",
        "    x = Flatten(name=\"flatten_input\")(input)\n",
        "    x = Dense(128, activation='relu', name=\"first_base_dense\")(x)\n",
        "    x = Dropout(0.1, name=\"first_dropout\")(x)\n",
        "    x = Dense(128, activation='relu', name=\"second_base_dense\")(x)\n",
        "    x = Dropout(0.1, name=\"second_dropout\")(x)\n",
        "    x = Dense(128, activation='relu', name=\"third_base_dense\")(x)\n",
        "\n",
        "    return Model(inputs=input, outputs=x)\n",
        "\n",
        "\n",
        "def euclidean_distance(vects):\n",
        "    x, y = vects\n",
        "    sum_square = K.sum(K.square(x - y), axis=1, keepdims=True)\n",
        "    return K.sqrt(K.maximum(sum_square, K.epsilon()))\n",
        "\n",
        "\n",
        "def eucl_dist_output_shape(shapes):\n",
        "    shape1, shape2 = shapes\n",
        "    return (shape1[0], 1)"
      ],
      "metadata": {
        "id": "JRax1kFMQ7oO"
      },
      "execution_count": 10,
      "outputs": []
    },
    {
      "cell_type": "code",
      "source": [
        "base_network = initialize_base_network()"
      ],
      "metadata": {
        "id": "0Z7sDnAiWKeN"
      },
      "execution_count": 11,
      "outputs": []
    },
    {
      "cell_type": "code",
      "source": [
        "input_a = Input(shape=(44100,2,), name=\"left_input\")\n",
        "vect_output_a = base_network(input_a)\n",
        "\n",
        "input_b = Input(shape=(44100,2,), name=\"right_input\")\n",
        "vect_output_b = base_network(input_b)\n",
        "\n",
        "output = Lambda(euclidean_distance, name=\"output_layer\", output_shape=eucl_dist_output_shape)([vect_output_a, vect_output_b])\n",
        "\n",
        "model = Model([input_a, input_b], output)"
      ],
      "metadata": {
        "id": "Ja9FDVzrUqXv"
      },
      "execution_count": 12,
      "outputs": []
    },
    {
      "cell_type": "code",
      "source": [
        "def contrastive_loss_with_margin(margin):\n",
        "    def contrastive_loss(y_true, y_pred):\n",
        "        '''Contrastive loss from Hadsell-et-al.'06\n",
        "        http://yann.lecun.com/exdb/publis/pdf/hadsell-chopra-lecun-06.pdf\n",
        "        '''\n",
        "        square_pred = K.square(y_pred)\n",
        "        margin_square = K.square(K.maximum(margin - y_pred, 0))\n",
        "        return K.mean(y_true * square_pred + (1 - y_true) * margin_square)\n",
        "    return contrastive_loss"
      ],
      "metadata": {
        "id": "O-E3jTeBUtK7"
      },
      "execution_count": 13,
      "outputs": []
    },
    {
      "cell_type": "code",
      "source": [
        "rms = RMSprop()\n",
        "model.compile(loss=contrastive_loss_with_margin(margin=1), optimizer=rms)\n",
        "history = model.fit([x[:,0], x[:,1]], y, epochs=20, batch_size=128, validation_data=([x[:,0], x[:,1]], y))"
      ],
      "metadata": {
        "id": "kZwYgaPyWNtR",
        "colab": {
          "base_uri": "https://localhost:8080/"
        },
        "outputId": "14665311-af24-43fc-f611-5b1579ec0dce"
      },
      "execution_count": 14,
      "outputs": [
        {
          "output_type": "stream",
          "name": "stdout",
          "text": [
            "Epoch 1/20\n",
            "2/2 [==============================] - 2s 718ms/step - loss: 8.3464 - val_loss: 6.1804\n",
            "Epoch 2/20\n",
            "2/2 [==============================] - 1s 504ms/step - loss: 6.0682 - val_loss: 2.1323\n",
            "Epoch 3/20\n",
            "2/2 [==============================] - 1s 484ms/step - loss: 2.3865 - val_loss: 0.7297\n",
            "Epoch 4/20\n",
            "2/2 [==============================] - 1s 484ms/step - loss: 1.0143 - val_loss: 0.3584\n",
            "Epoch 5/20\n",
            "2/2 [==============================] - 1s 477ms/step - loss: 0.4916 - val_loss: 0.1969\n",
            "Epoch 6/20\n",
            "2/2 [==============================] - 1s 474ms/step - loss: 0.3188 - val_loss: 0.1386\n",
            "Epoch 7/20\n",
            "2/2 [==============================] - 1s 492ms/step - loss: 0.2175 - val_loss: 0.1086\n",
            "Epoch 8/20\n",
            "2/2 [==============================] - 1s 485ms/step - loss: 0.1703 - val_loss: 0.0850\n",
            "Epoch 9/20\n",
            "2/2 [==============================] - 1s 474ms/step - loss: 0.1498 - val_loss: 0.0679\n",
            "Epoch 10/20\n",
            "2/2 [==============================] - 1s 497ms/step - loss: 0.1132 - val_loss: 0.0562\n",
            "Epoch 11/20\n",
            "2/2 [==============================] - 1s 484ms/step - loss: 0.1010 - val_loss: 0.0445\n",
            "Epoch 12/20\n",
            "2/2 [==============================] - 1s 493ms/step - loss: 0.0820 - val_loss: 0.0406\n",
            "Epoch 13/20\n",
            "2/2 [==============================] - 1s 501ms/step - loss: 0.0656 - val_loss: 0.0308\n",
            "Epoch 14/20\n",
            "2/2 [==============================] - 1s 718ms/step - loss: 0.0520 - val_loss: 0.0259\n",
            "Epoch 15/20\n",
            "2/2 [==============================] - 1s 482ms/step - loss: 0.0463 - val_loss: 0.0228\n",
            "Epoch 16/20\n",
            "2/2 [==============================] - 1s 477ms/step - loss: 0.0390 - val_loss: 0.0180\n",
            "Epoch 17/20\n",
            "2/2 [==============================] - 1s 483ms/step - loss: 0.0342 - val_loss: 0.0227\n",
            "Epoch 18/20\n",
            "2/2 [==============================] - 1s 730ms/step - loss: 0.0322 - val_loss: 0.0103\n",
            "Epoch 19/20\n",
            "2/2 [==============================] - 1s 800ms/step - loss: 0.0190 - val_loss: 0.0101\n",
            "Epoch 20/20\n",
            "2/2 [==============================] - 1s 466ms/step - loss: 0.0142 - val_loss: 0.0077\n"
          ]
        }
      ]
    },
    {
      "cell_type": "code",
      "source": [
        "def plot_metrics(metric_name, title, ylim=5):\n",
        "    plt.title(title)\n",
        "    plt.ylim(0,ylim)\n",
        "    plt.plot(history.history[metric_name],color='blue',label=metric_name)\n",
        "    plt.plot(history.history['val_' + metric_name],color='green',label='val_' + metric_name)\n",
        "    plt.ylabel('loss')\n",
        "    plt.xlabel('epoch')\n",
        "    plt.legend(['train', 'validation'], loc='upper right')\n",
        "\n",
        "plot_metrics(metric_name='loss', title=\"Loss\", ylim=0.2)"
      ],
      "metadata": {
        "colab": {
          "base_uri": "https://localhost:8080/",
          "height": 295
        },
        "id": "QijesNd5Oz2G",
        "outputId": "5865d6be-765d-414d-a9c4-53130a20b42e"
      },
      "execution_count": 15,
      "outputs": [
        {
          "output_type": "display_data",
          "data": {
            "text/plain": [
              "<Figure size 432x288 with 1 Axes>"
            ],
            "image/png": "[encoded data removed]"
          },
          "metadata": {
            "needs_background": "light"
          }
        }
      ]
    },
    {
      "cell_type": "code",
      "source": [
        "def compute_accuracy(y_true, y_pred):\n",
        "    '''Compute classification accuracy with a fixed threshold on distances.\n",
        "    '''\n",
        "    pred = y_pred.ravel() < 0.5\n",
        "    return np.mean(pred == y_true)"
      ],
      "metadata": {
        "id": "pIzAfqfeqiRg"
      },
      "execution_count": 17,
      "outputs": []
    },
    {
      "cell_type": "code",
      "source": [
        "y_pred_ = model.predict([x[:3,0], x[:3,1]])"
      ],
      "metadata": {
        "id": "VTGi7QCoXEDu"
      },
      "execution_count": 16,
      "outputs": []
    },
    {
      "cell_type": "code",
      "source": [
        "compute_accuracy(y[:3], y_pred_)"
      ],
      "metadata": {
        "colab": {
          "base_uri": "https://localhost:8080/"
        },
        "id": "IcttuxcK3_yJ",
        "outputId": "6002233b-ac84-45d5-b147-753e58d75d0b"
      },
      "execution_count": 18,
      "outputs": [
        {
          "output_type": "execute_result",
          "data": {
            "text/plain": [
              "1.0"
            ]
          },
          "metadata": {},
          "execution_count": 18
        }
      ]
    },
    {
      "cell_type": "code",
      "source": [
        "loss = model.evaluate(x=[x[:,0],x[:,1]], y=y)\n",
        "\n",
        "y_pred_train = model.predict([x[:,0], x[:,1]])\n",
        "train_accuracy = compute_accuracy(y, y_pred_train)\n",
        "\n",
        "print(\"Loss = {}, Train Accuracy = {}\".format(loss, train_accuracy))"
      ],
      "metadata": {
        "colab": {
          "base_uri": "https://localhost:8080/"
        },
        "id": "kseeUecPqx-9",
        "outputId": "ce56b0f0-5406-4e61-ef08-9e87b5d4f6b8"
      },
      "execution_count": 19,
      "outputs": [
        {
          "output_type": "stream",
          "name": "stdout",
          "text": [
            "8/8 [==============================] - 0s 35ms/step - loss: 0.0077\n",
            "Loss = 0.0076861451379954815, Train Accuracy = 0.9915966386554622\n"
          ]
        }
      ]
    }
  ]
}
