{
  "cells": [
    {
      "cell_type": "code",
      "execution_count": null,
      "metadata": {
        "id": "iiIVX1N50YKo"
      },
      "outputs": [],
      "source": [
        "!unzip /content/2zpbjs22k3-1.zip"
      ]
    },
    {
      "cell_type": "code",
      "execution_count": null,
      "metadata": {
        "id": "mqQh3d2q0jAX"
      },
      "outputs": [],
      "source": [
        "import glob\n",
        "path = glob.glob(\"/content/Indonesian news corpus/json/*.json\")"
      ]
    },
    {
      "cell_type": "code",
      "execution_count": null,
      "metadata": {
        "id": "q0NPxkp60t7s"
      },
      "outputs": [],
      "source": [
        "import json\n",
        "isi = []\n",
        "kategori = []\n",
        "for _ in path:\n",
        "  f = open(_)\n",
        "  data = json.load(f)\n",
        "  for i in data:\n",
        "    isi.append(i['isi'])\n",
        "  for i in data:\n",
        "    kategori.append(i['kategori'])\n",
        "  f.close()"
      ]
    },
    {
      "cell_type": "code",
      "execution_count": null,
      "metadata": {
        "id": "4FRSqDJS4URI"
      },
      "outputs": [],
      "source": [
        "import pandas as pd\n",
        "kategori_ = list(pd.unique(pd.Series(kategori)))"
      ]
    },
    {
      "cell_type": "code",
      "execution_count": null,
      "metadata": {
        "id": "s0VsXsFI4aVP"
      },
      "outputs": [],
      "source": [
        "import re\n",
        "berita = []\n",
        "kelas = []\n",
        "for count, _ in enumerate(kategori_):\n",
        "  for i in range(len(isi)):\n",
        "    if kategori[i] == _:\n",
        "      if len(berita) < (count+1)*1250:\n",
        "        isi[i]=isi[i].lower()\n",
        "        isi[i]=re.sub('[^ A-Za-z]','',isi[i])\n",
        "        berita.append(' '.join(isi[i].split()[3:]))\n",
        "        kelas.append(count)"
      ]
    },
    {
      "cell_type": "code",
      "execution_count": null,
      "metadata": {
        "id": "0_M9w3Db29QT"
      },
      "outputs": [],
      "source": [
        "kata = pd.read_fwf('/content/Laskar Pelangi.txt')"
      ]
    },
    {
      "cell_type": "code",
      "execution_count": null,
      "metadata": {
        "colab": {
          "base_uri": "https://localhost:8080/"
        },
        "id": "hzUzBqdD9sT-",
        "outputId": "ef4fda95-0d73-439e-bf3d-cc80ec218b7f"
      },
      "outputs": [
        {
          "output_type": "execute_result",
          "data": {
            "text/plain": [
              "TfidfVectorizer()"
            ]
          },
          "metadata": {},
          "execution_count": 12
        }
      ],
      "source": [
        "from sklearn.feature_extraction.text import TfidfVectorizer  \n",
        "tfidfvectorizer = TfidfVectorizer(use_idf=True)\n",
        "tfidfvectorizer.fit(kata['Laskar Pelangi'])"
      ]
    },
    {
      "cell_type": "code",
      "execution_count": null,
      "metadata": {
        "id": "TsrXkO9V9wqV"
      },
      "outputs": [],
      "source": [
        "import numpy as np\n",
        "kosakata = tfidfvectorizer.get_feature_names_out()\n",
        "kosakata = np.array(kosakata)"
      ]
    },
    {
      "cell_type": "code",
      "execution_count": null,
      "metadata": {
        "id": "bEUqerRh94Ft"
      },
      "outputs": [],
      "source": [
        "kata_baru = []\n",
        "for _ in berita:\n",
        "  kalimat_ = np.asarray(_.split(' '))\n",
        "  kata_baru_ = kalimat_[np.array([kata not in kosakata for kata in kalimat_]) == True]\n",
        "  kata_baru.append(kata_baru_)"
      ]
    },
    {
      "cell_type": "code",
      "execution_count": null,
      "metadata": {
        "id": "1wnLsy0xBsFy"
      },
      "outputs": [],
      "source": [
        "berita_ = []\n",
        "sebanyak_ini = 50\n",
        "for count, _ in enumerate(berita):\n",
        "  kodok = tfidfvectorizer.transform([_]).todense()\n",
        "  kata_penting = np.argsort(np.asarray(kodok.sum(axis=0)).ravel())[::-1]\n",
        "  kata_teratas = kosakata[kata_penting[:sebanyak_ini]]\n",
        "  kata_baru_dan_kata_teratas = np.concatenate((kata_baru[count], kata_teratas))[:sebanyak_ini]\n",
        "  berita_.append(\" \".join(kata_baru_dan_kata_teratas))"
      ]
    },
    {
      "cell_type": "code",
      "execution_count": null,
      "metadata": {
        "id": "h8aSpDQ_oYTA"
      },
      "outputs": [],
      "source": [
        "import numpy as np\n",
        "data_ = pd.DataFrame(pd.DataFrame([np.asarray(berita_), np.asarray(kelas)]).values.T)\n",
        "data_.to_csv(\"nlpdone2.csv\")"
      ]
    },
    {
      "cell_type": "code",
      "execution_count": null,
      "metadata": {
        "id": "SA0xRrAazvbW"
      },
      "outputs": [],
      "source": [
        "import pandas as pd\n",
        "data = pd.read_csv('nlpdone2.csv')"
      ]
    },
    {
      "cell_type": "code",
      "execution_count": null,
      "metadata": {
        "id": "SHrSUp6GolR7"
      },
      "outputs": [],
      "source": [
        "x = data.iloc[:,1].values\n",
        "y = data.iloc[:,2].values"
      ]
    },
    {
      "cell_type": "code",
      "execution_count": null,
      "metadata": {
        "id": "ClPFV7xdogsJ"
      },
      "outputs": [],
      "source": [
        "x_ = []\n",
        "for _ in x:\n",
        "  x_.append(_)"
      ]
    },
    {
      "cell_type": "code",
      "source": [
        "y_ = []\n",
        "for _ in y:\n",
        "  y_.append(_)"
      ],
      "metadata": {
        "id": "Xltkyf4wfBRo"
      },
      "execution_count": null,
      "outputs": []
    },
    {
      "cell_type": "code",
      "execution_count": null,
      "metadata": {
        "id": "y6VPhQtjpDYv"
      },
      "outputs": [],
      "source": [
        "import random\n",
        "import numpy as np\n",
        "b = list(zip(x_, y_))\n",
        "random.shuffle(b)\n",
        "x_, y_ = zip(*b)\n",
        "x_ = list(x_)\n",
        "y_ = list(y_)"
      ]
    },
    {
      "cell_type": "code",
      "execution_count": null,
      "metadata": {
        "colab": {
          "base_uri": "https://localhost:8080/"
        },
        "id": "UKlwAIgGwzVP",
        "outputId": "4816d253-540b-4813-8f84-618e2ae4f447"
      },
      "outputs": [
        {
          "output_type": "execute_result",
          "data": {
            "text/plain": [
              "TfidfVectorizer(max_features=100)"
            ]
          },
          "metadata": {},
          "execution_count": 31
        }
      ],
      "source": [
        "from sklearn.feature_extraction.text import TfidfVectorizer  \n",
        "tfidfvectorizer_ = TfidfVectorizer(use_idf=True, max_features=100)\n",
        "tfidfvectorizer_.fit(x_)"
      ]
    },
    {
      "cell_type": "code",
      "execution_count": null,
      "metadata": {
        "id": "Ubgir3aOxCkI"
      },
      "outputs": [],
      "source": [
        "x_t = tfidfvectorizer_.transform(x_).toarray()"
      ]
    },
    {
      "cell_type": "code",
      "execution_count": null,
      "metadata": {
        "id": "GyZT7EPQzFM9"
      },
      "outputs": [],
      "source": [
        "tfidfvectorizer_.get_feature_names()"
      ]
    },
    {
      "cell_type": "code",
      "execution_count": null,
      "metadata": {
        "colab": {
          "base_uri": "https://localhost:8080/"
        },
        "id": "hMab6OJjr3da",
        "outputId": "a4844358-b96e-4979-fc08-6673edb8302d"
      },
      "outputs": [
        {
          "output_type": "stream",
          "name": "stderr",
          "text": [
            "/usr/local/lib/python3.7/dist-packages/sklearn/neural_network/_multilayer_perceptron.py:696: ConvergenceWarning: Stochastic Optimizer: Maximum iterations (300) reached and the optimization hasn't converged yet.\n",
            "  ConvergenceWarning,\n"
          ]
        },
        {
          "output_type": "execute_result",
          "data": {
            "text/plain": [
              "Pipeline(steps=[('standardscaler', StandardScaler()),\n",
              "                ('sgdclassifier', SGDClassifier())])"
            ]
          },
          "metadata": {},
          "execution_count": 29
        }
      ],
      "source": [
        "from sklearn.neighbors import KNeighborsClassifier\n",
        "neigh = KNeighborsClassifier(n_neighbors=7)\n",
        "neigh.fit(x_t, y_)\n",
        "\n",
        "from sklearn.naive_bayes import GaussianNB\n",
        "clf = GaussianNB()\n",
        "clf.fit(x_t, y_)\n",
        "\n",
        "from sklearn.ensemble import RandomForestClassifier\n",
        "ran = RandomForestClassifier(max_depth=2, random_state=0)\n",
        "ran.fit(x_t, y_)\n",
        "\n",
        "from sklearn import svm\n",
        "cls = svm.SVC()\n",
        "cls.fit(x_t, y_)\n",
        "\n",
        "from sklearn.neural_network import MLPClassifier\n",
        "mlp = MLPClassifier(random_state=1, max_iter=300)\n",
        "mlp.fit(x_t, y_)\n",
        "\n",
        "from sklearn.linear_model import RidgeClassifier\n",
        "ridge = RidgeClassifier(alpha=1.0)\n",
        "ridge.fit(x_t, y_)\n",
        "\n",
        "from sklearn.linear_model import SGDClassifier\n",
        "from sklearn.preprocessing import StandardScaler\n",
        "from sklearn.pipeline import make_pipeline\n",
        "sgd = make_pipeline(StandardScaler(),SGDClassifier(max_iter=1000, tol=1e-3))\n",
        "sgd.fit(x_t, y_)"
      ]
    },
    {
      "cell_type": "code",
      "execution_count": null,
      "metadata": {
        "colab": {
          "base_uri": "https://localhost:8080/"
        },
        "id": "_TkNODiWugDv",
        "outputId": "9ad4a2c5-8619-417b-e159-73a32a8ef711"
      },
      "outputs": [
        {
          "output_type": "stream",
          "name": "stdout",
          "text": [
            "0.6785\n",
            "0.5412\n",
            "0.5137\n",
            "0.7285\n",
            "0.7585\n",
            "0.6545\n",
            "0.6208\n"
          ]
        }
      ],
      "source": [
        "print(neigh.score(x_t, y_))\n",
        "print(clf.score(x_t, y_))\n",
        "print(ran.score(x_t, y_))\n",
        "print(cls.score(x_t, y_))\n",
        "print(mlp.score(x_t, y_))\n",
        "print(ridge.score(x_t, y_))\n",
        "print(sgd.score(x_t, y_))"
      ]
    },
    {
      "cell_type": "code",
      "source": [
        "cls_pred = cls.predict(x_t)"
      ],
      "metadata": {
        "id": "U5hlolnbIcGJ"
      },
      "execution_count": null,
      "outputs": []
    },
    {
      "cell_type": "code",
      "source": [
        "mlp_pred = mlp.predict(x_t)"
      ],
      "metadata": {
        "id": "884OGWkzI5t9"
      },
      "execution_count": null,
      "outputs": []
    },
    {
      "cell_type": "code",
      "execution_count": null,
      "metadata": {
        "colab": {
          "base_uri": "https://localhost:8080/",
          "height": 351
        },
        "id": "vHNGMO_5vpOY",
        "outputId": "ce12cf74-110f-4040-b185-fd5354b6a96f"
      },
      "outputs": [
        {
          "output_type": "stream",
          "name": "stderr",
          "text": [
            "/usr/local/lib/python3.7/dist-packages/sklearn/utils/deprecation.py:87: FutureWarning: Function plot_confusion_matrix is deprecated; Function `plot_confusion_matrix` is deprecated in 1.0 and will be removed in 1.2. Use one of the class methods: ConfusionMatrixDisplay.from_predictions or ConfusionMatrixDisplay.from_estimator.\n",
            "  warnings.warn(msg, category=FutureWarning)\n"
          ]
        },
        {
          "output_type": "execute_result",
          "data": {
            "text/plain": [
              "<sklearn.metrics._plot.confusion_matrix.ConfusionMatrixDisplay at 0x7f6a9322ced0>"
            ]
          },
          "metadata": {},
          "execution_count": 33
        },
        {
          "output_type": "display_data",
          "data": {
            "text/plain": [
              "<Figure size 432x288 with 2 Axes>"
            ],
            "image/png": "[encoded data removed]"
          },
          "metadata": {
            "needs_background": "light"
          }
        }
      ],
      "source": [
        "import matplotlib.pyplot as plt\n",
        "from sklearn.metrics import plot_confusion_matrix\n",
        "from sklearn.metrics import confusion_matrix, accuracy_score\n",
        "plot_confusion_matrix(cls.fit(x_t, y_), x_t, y_, sample_weight=None, normalize=None, display_labels=None, include_values=True, xticks_rotation='horizontal', values_format=None, cmap=plt.cm.Blues, ax=None)"
      ]
    },
    {
      "cell_type": "code",
      "execution_count": null,
      "metadata": {
        "colab": {
          "base_uri": "https://localhost:8080/",
          "height": 386
        },
        "id": "0UDm1FAmLpWX",
        "outputId": "d2c75a11-d047-4d30-d754-41d812db7bb4"
      },
      "outputs": [
        {
          "output_type": "stream",
          "name": "stderr",
          "text": [
            "/usr/local/lib/python3.7/dist-packages/sklearn/neural_network/_multilayer_perceptron.py:696: ConvergenceWarning: Stochastic Optimizer: Maximum iterations (300) reached and the optimization hasn't converged yet.\n",
            "  ConvergenceWarning,\n",
            "/usr/local/lib/python3.7/dist-packages/sklearn/utils/deprecation.py:87: FutureWarning: Function plot_confusion_matrix is deprecated; Function `plot_confusion_matrix` is deprecated in 1.0 and will be removed in 1.2. Use one of the class methods: ConfusionMatrixDisplay.from_predictions or ConfusionMatrixDisplay.from_estimator.\n",
            "  warnings.warn(msg, category=FutureWarning)\n"
          ]
        },
        {
          "output_type": "execute_result",
          "data": {
            "text/plain": [
              "<sklearn.metrics._plot.confusion_matrix.ConfusionMatrixDisplay at 0x7f6a9240cd90>"
            ]
          },
          "metadata": {},
          "execution_count": 34
        },
        {
          "output_type": "display_data",
          "data": {
            "text/plain": [
              "<Figure size 432x288 with 2 Axes>"
            ],
            "image/png": "[encoded data removed]"
          },
          "metadata": {
            "needs_background": "light"
          }
        }
      ],
      "source": [
        "plot_confusion_matrix(mlp.fit(x_t, y_), x_t, y_, sample_weight=None, normalize=None, display_labels=None, include_values=True, xticks_rotation='horizontal', values_format=None, cmap=plt.cm.Blues, ax=None)"
      ]
    },
    {
      "cell_type": "code",
      "execution_count": null,
      "metadata": {
        "colab": {
          "base_uri": "https://localhost:8080/"
        },
        "id": "8sjWvy2d3v2M",
        "outputId": "a8824be1-fa21-496f-f95d-89aee4b9360b"
      },
      "outputs": [
        {
          "output_type": "stream",
          "name": "stdout",
          "text": [
            "              precision    recall  f1-score   support\n",
            "\n",
            "           0       0.86      0.78      0.82      1250\n",
            "           1       0.68      0.72      0.70      1250\n",
            "           2       0.53      0.66      0.59      1250\n",
            "           3       0.87      0.67      0.76      1250\n",
            "           4       0.62      0.66      0.64      1250\n",
            "           5       0.76      0.80      0.78      1250\n",
            "           6       0.78      0.67      0.72      1250\n",
            "           7       0.84      0.87      0.86      1250\n",
            "\n",
            "    accuracy                           0.73     10000\n",
            "   macro avg       0.74      0.73      0.73     10000\n",
            "weighted avg       0.74      0.73      0.73     10000\n",
            "\n"
          ]
        }
      ],
      "source": [
        "from sklearn.metrics import classification_report\n",
        "print (classification_report(y_, cls_pred))"
      ]
    },
    {
      "cell_type": "code",
      "source": [
        "print (classification_report(y_, mlp_pred))"
      ],
      "metadata": {
        "colab": {
          "base_uri": "https://localhost:8080/"
        },
        "id": "0IkS9EimfwVQ",
        "outputId": "97cf62b0-7da3-4318-9062-3e1a74f26f47"
      },
      "execution_count": null,
      "outputs": [
        {
          "output_type": "stream",
          "name": "stdout",
          "text": [
            "              precision    recall  f1-score   support\n",
            "\n",
            "           0       0.87      0.83      0.85      1250\n",
            "           1       0.74      0.72      0.73      1250\n",
            "           2       0.53      0.74      0.62      1250\n",
            "           3       0.86      0.77      0.81      1250\n",
            "           4       0.68      0.63      0.65      1250\n",
            "           5       0.81      0.79      0.80      1250\n",
            "           6       0.79      0.71      0.75      1250\n",
            "           7       0.90      0.87      0.89      1250\n",
            "\n",
            "    accuracy                           0.76     10000\n",
            "   macro avg       0.77      0.76      0.76     10000\n",
            "weighted avg       0.77      0.76      0.76     10000\n",
            "\n"
          ]
        }
      ]
    }
  ],
  "metadata": {
    "colab": {
      "collapsed_sections": [],
      "name": "Salinan dari Implementation of The Algorithm Support Vector Machine and Multi-Layer Perceptron for News Topic Classification",
      "provenance": []
    },
    "kernelspec": {
      "display_name": "Python 3",
      "name": "python3"
    },
    "language_info": {
      "name": "python"
    }
  },
  "nbformat": 4,
  "nbformat_minor": 0
}